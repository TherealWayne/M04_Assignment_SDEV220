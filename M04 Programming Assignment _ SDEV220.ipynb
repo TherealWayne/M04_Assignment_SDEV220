{
 "cells": [
  {
   "cell_type": "code",
   "execution_count": 14,
   "id": "ae4d57b9",
   "metadata": {},
   "outputs": [
    {
     "name": "stdout",
     "output_type": "stream",
     "text": [
      "Open 9-5 daily\n"
     ]
    }
   ],
   "source": [
    "#11.1\n",
    "filename = \"zoo.py\"\n",
    "\n",
    "with open(filename, \"w\") as file:\n",
    "    file.write(\"def hours():\\n\")\n",
    "    file.write(\"    print('Open 9-5 daily')\")\n",
    "\n",
    "import zoo\n",
    "zoo.hours()"
   ]
  },
  {
   "cell_type": "code",
   "execution_count": 19,
   "id": "77ce9f17",
   "metadata": {},
   "outputs": [
    {
     "name": "stdout",
     "output_type": "stream",
     "text": [
      "Open 9-5 daily\n"
     ]
    }
   ],
   "source": [
    "#11.2\n",
    "import zoo as menagerie \n",
    "menagerie.hours()"
   ]
  },
  {
   "cell_type": "markdown",
   "id": "3b6db67c",
   "metadata": {},
   "source": [
    "In order to complete the homework for #16.8, I need to complete the steps before the exercise that lead up to 16.8"
   ]
  },
  {
   "cell_type": "code",
   "execution_count": 20,
   "id": "279ca9e8",
   "metadata": {},
   "outputs": [],
   "source": [
    "#16.3 \n",
    "\n",
    "import csv\n",
    "\n",
    "data = [[\"The Weirdstone of Brisingamen\",\"Alan Garner\",\"1960\"],\n",
    "        [\"Perdido Street Station\",\"China Miéville\",\"2000\"],\n",
    "        [\"Thud!\",\"Terry Pratchett\",\"2005\"],\n",
    "        [\"The Spellman Files\",\"Lisa Lutz\",\"2007\"],\n",
    "        [\"Small Gods\",\"Terry Pratchett\",\"1992\"]]\n",
    "\n",
    "with open('books2.csv', 'w', newline='') as file:\n",
    "    writer = csv.writer(file)\n",
    "    writer.writerow([\"title\",\"author\",\"year\"])\n",
    "    writer.writerows(data)\n"
   ]
  },
  {
   "cell_type": "code",
   "execution_count": 21,
   "id": "7b03b5f8",
   "metadata": {},
   "outputs": [],
   "source": [
    "#16.4\n",
    "\n",
    "import sqlite3\n",
    "\n",
    "conn = sqlite3.connect(\"books.db\")\n",
    "cursor = conn.cursor()\n",
    "\n",
    "cursor.execute(\"\"\"CREATE TABLE books (\n",
    "                      title TEXT,\n",
    "                      author TEXT,\n",
    "                      year INTEGER\n",
    "                  );\"\"\")\n",
    "\n",
    "conn.commit()\n",
    "conn.close()\n"
   ]
  },
  {
   "cell_type": "code",
   "execution_count": 22,
   "id": "98fe6759",
   "metadata": {},
   "outputs": [],
   "source": [
    "#16.5 \n",
    "\n",
    "import csv\n",
    "import sqlite3\n",
    "\n",
    "conn = sqlite3.connect(\"books.db\")\n",
    "cursor = conn.cursor()\n",
    "\n",
    "with open(\"books2.csv\", \"r\") as file:\n",
    "    reader = csv.reader(file)\n",
    "    header = next(reader)\n",
    "\n",
    "    for row in reader:\n",
    "        cursor.execute(\"INSERT INTO books (title, author, year) VALUES (?, ?, ?);\", row)\n",
    "\n",
    "conn.commit()\n",
    "conn.close()\n"
   ]
  },
  {
   "cell_type": "code",
   "execution_count": 23,
   "id": "59d76a73",
   "metadata": {},
   "outputs": [
    {
     "name": "stdout",
     "output_type": "stream",
     "text": [
      "Perdido Street Station\n",
      "Small Gods\n",
      "The Spellman Files\n",
      "The Weirdstone of Brisingamen\n",
      "Thud!\n"
     ]
    }
   ],
   "source": [
    "#16.8 \n",
    "\n",
    "from sqlalchemy import create_engine, text\n",
    "\n",
    "engine = create_engine('sqlite:///books.db')\n",
    "conn = engine.connect()\n",
    "\n",
    "query = text(\"SELECT title FROM books ORDER BY title;\")\n",
    "result = conn.execute(query)\n",
    "\n",
    "for row in result:\n",
    "    print(row[0])\n",
    "\n",
    "conn.close()\n"
   ]
  },
  {
   "cell_type": "code",
   "execution_count": null,
   "id": "48293a60",
   "metadata": {},
   "outputs": [],
   "source": []
  }
 ],
 "metadata": {
  "kernelspec": {
   "display_name": "Python 3 (ipykernel)",
   "language": "python",
   "name": "python3"
  },
  "language_info": {
   "codemirror_mode": {
    "name": "ipython",
    "version": 3
   },
   "file_extension": ".py",
   "mimetype": "text/x-python",
   "name": "python",
   "nbconvert_exporter": "python",
   "pygments_lexer": "ipython3",
   "version": "3.9.13"
  }
 },
 "nbformat": 4,
 "nbformat_minor": 5
}
